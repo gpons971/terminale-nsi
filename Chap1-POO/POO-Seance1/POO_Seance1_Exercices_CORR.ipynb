{
 "cells": [
  {
   "cell_type": "markdown",
   "metadata": {},
   "source": [
    "**Terminale NSI**\n",
    "<div class=\"bg-info\"><h1>Chapitre 1 - Programmation Orientée Objet</h1></div>\n",
    "\n",
    "<div class=\"bg-default\"><h2>Séance 1 - Exercices - <span class=\"text-danger\">Correction</span></h2></div>"
   ]
  },
  {
   "cell_type": "markdown",
   "metadata": {},
   "source": [
    "## Exercice 1\n",
    "Reprenons l'exemple du cours.\n",
    "```Python  \n",
    "class Robot :\n",
    "    def __init__(self,couleur,autonomie):\n",
    "        self.couleur =  couleur\n",
    "        self.autonomie = autonomie\n",
    "    def parler(self):\n",
    "        return \"Bonjour!\"\n",
    "    def changer_couleur(self,new):\n",
    "        self.couleur = new\n",
    "```  \n",
    "1. Ajouter dans le constructeur un attribut `prenom`.  \n",
    "2. Modifier la méthode `parler` qui renverra, par exemple pour un robot nommé Bob, le message : `Bonjour ! Je m'appelle Bob !`.   \n",
    "3. Créer une méthode `augmenter_autonomie` qui modifiera l'autonomie du robot en ajoutant un nombre d'heures donné en paramètre. \n",
    "4. Tester cette classe en créant quelques robots et en les manipulant."
   ]
  },
  {
   "cell_type": "code",
   "execution_count": 1,
   "metadata": {},
   "outputs": [],
   "source": [
    "class Robot :\n",
    "    def __init__(self,prenom,couleur,autonomie):\n",
    "        self.prenom = prenom\n",
    "        self.couleur =  couleur\n",
    "        self.autonomie = autonomie\n",
    "    def parler(self):\n",
    "        return \"Bonjour! Je m'appelle \" + self.prenom + \" !\"\n",
    "    def changer_couleur(self,new):\n",
    "        self.couleur = new\n",
    "    def augmenter_autonomie(self,x):\n",
    "        self.autonomie += x        "
   ]
  },
  {
   "cell_type": "code",
   "execution_count": 3,
   "metadata": {},
   "outputs": [
    {
     "name": "stdout",
     "output_type": "stream",
     "text": [
      "Bonjour! Je m'appelle Guillaume !\n",
      "15\n"
     ]
    }
   ],
   "source": [
    "r1 = Robot(\"Guillaume\",\"vert\",10)\n",
    "print(r1.parler())\n",
    "r1.augmenter_autonomie(5)\n",
    "print(r1.autonomie)"
   ]
  },
  {
   "cell_type": "markdown",
   "metadata": {},
   "source": [
    "## Exercice 2  \n",
    "Un domino est une pièce constituée de deux extrémités comportant chacune un dessin de zéro (vide) à six points. Un jeu de dominos comprend 28 pièces composées des combinaisons des valeurs ci-dessus.\n",
    "1. Définir une classe `Domino` qui permette d’instancier des objets simulant les pièces d’un jeu de dominos. Le constructeur de cette classe initialisera les valeurs des points présents sur les deux faces A et B du domino (valeurs par défaut = 0).  \n",
    "2. Définir la méthode spéciale `__str_()` qui renvoie les points présents sur les deux faces d'un domino.  \n",
    "3. Définir une méthode `valeur()` qui renvoie la somme des points présents sur les 2 faces. \n",
    "4. Tester cette classe en créant quelques dominos et en les manipulant.  \n",
    "5. Définir une liste `pioche` contenant l'ensemble des dominos. Mélanger celle-ci à l'aide de la méthode `shuffle()` du module standard `random`."
   ]
  },
  {
   "cell_type": "code",
   "execution_count": 2,
   "metadata": {},
   "outputs": [
    {
     "name": "stdout",
     "output_type": "stream",
     "text": [
      "[2 : 3]\n",
      "5\n",
      "[2 : 2]\n",
      "[2 : 5]\n",
      "[5 : 5]\n",
      "[1 : 4]\n",
      "[2 : 3]\n",
      "[0 : 6]\n",
      "[1 : 1]\n",
      "[2 : 6]\n",
      "[4 : 4]\n",
      "[0 : 5]\n",
      "[3 : 5]\n",
      "[3 : 6]\n",
      "[0 : 4]\n",
      "[0 : 3]\n",
      "[3 : 3]\n",
      "[1 : 2]\n",
      "[1 : 6]\n",
      "[0 : 2]\n",
      "[3 : 4]\n",
      "[6 : 6]\n",
      "[4 : 6]\n",
      "[0 : 0]\n",
      "[4 : 5]\n",
      "[1 : 3]\n",
      "[5 : 6]\n",
      "[0 : 1]\n",
      "[2 : 4]\n",
      "[1 : 5]\n"
     ]
    }
   ],
   "source": [
    "from random import*\n",
    "\n",
    "class Domino:\n",
    "    def __init__(self, facea=0, faceb=0):\n",
    "        self.fa = facea\n",
    "        self.fb = faceb\n",
    "    def __str__(self):\n",
    "        return f\"[{self.fa} : {self.fb}]\"\n",
    "    def valeur(self):\n",
    "        return self.fa + self.fb\n",
    "\n",
    "d1=Domino(2,3)\n",
    "print(d1)\n",
    "print(d1.valeur())\n",
    "\n",
    "pioche = []\n",
    "for i in range(0, 7):\n",
    "    for j in range(i, 7):\n",
    "        pioche.append(Domino(i, j))\n",
    "shuffle(pioche)\n",
    "#for i in range(28):\n",
    "#    print(pioche[i])\n",
    "for elt in pioche:\n",
    "    print(elt)"
   ]
  },
  {
   "cell_type": "markdown",
   "metadata": {},
   "source": [
    "## Exercice 3 \n",
    "1. Créer une classe `Point` contenant deux attributs de coordonnées, `x` et `y`, et initialisée en fournissant les valeurs de ces deux attributs.  \n",
    "2. Définir une méthode `deplace` qui permet de calculer les coordonnées du point obtenu par une translation de vecteur de coordonnées (`dx`,`dy`).\n",
    "3. Définir la méthode spéciale `__str__()` afin de représenter les deux coordonnées entre parenthèses et séparées par une virgule.  \n",
    "4. Ajouter une méthode `distance_origine` qui retourne la distance du point par rapport à l'origine $\\sqrt{x^2 + y^2}$ (on rappelle l'existence de la fonction racine carrée `sqrt()` dans le module `math`).\n",
    "5. Ajouter une méthode `distance_autre_point` qui retourne la distance du point par rapport à un autre point. \n",
    "6. Tester cette classe en créant quelques points et en les manipulant."
   ]
  },
  {
   "cell_type": "code",
   "execution_count": 8,
   "metadata": {},
   "outputs": [
    {
     "name": "stdout",
     "output_type": "stream",
     "text": [
      "10 20\n",
      "12 25\n",
      "(12.000000,25.000000)\n",
      "5.0\n",
      "(8.000000,6.000000)\n",
      "10.0\n",
      "10.0\n"
     ]
    }
   ],
   "source": [
    "from math import sqrt\n",
    "\n",
    "class Point:\n",
    "    def __init__(self, x, y):\n",
    "        self.x = x\n",
    "        self.y = y\n",
    "    def deplace(self, dx, dy):\n",
    "        self.x += dx\n",
    "        self.y += dy    \n",
    "    def __str__(self):\n",
    "        return \"({:f},{:f})\".format(self.x, self.y)\n",
    "    def distance_origine(self):\n",
    "        return sqrt(self.x ** 2 + self.y ** 2)\n",
    "    def distance_autre_point(self,autre):\n",
    "        return sqrt((autre.x-self.x)**2 + (autre.y-self.y)**2)\n",
    "\n",
    "F = Point(10,20)\n",
    "print(F.x,F.y)\n",
    "F.deplace(2,5)\n",
    "print(F.x,F.y)\n",
    "print(F)\n",
    "A = Point(3,4)\n",
    "print(A.distance_origine())\n",
    "B=Point(8,6)\n",
    "print(B)\n",
    "print(B.distance_origine())\n",
    "C=Point(11,10)\n",
    "print(A.distance_autre_point(C))"
   ]
  },
  {
   "cell_type": "markdown",
   "metadata": {},
   "source": [
    "# Remarques\n",
    "### Remarque 1\n",
    "Le spécificateur de formatage le plus usuel pour les flottants est f.  \n",
    "Le formatage limite la partie décimale a au plus 6 décimales.  \n",
    "La dernière décimale du formatage peut avoir subi un arrondi.   \n",
    "\n",
    "### Remarque 2 (retour EP Sujet 1 Exercice 2)\n",
    "On rappelle que tester l'égalité de deux flottants est très risqué ! \n",
    "```Python \n",
    ">>> (3 - 2.7) == 0.3  \n",
    "False\n",
    ">>> (3 - 2.7) - 0.3\n",
    "-1.6653345369377348e-16\n",
    ">>> abs((3 - 2.7) - 0.3)\n",
    "1.6653345369377348e-16\n",
    ">>> abs((3 - 2.7)-0.3)<1e-10\n",
    "True\n",
    "``` \n",
    "Test préférable pour l'exercice 2 du sujet 1 :  \n",
    "`abs(distance((1, 0), (5, 3)) - 5.0 ) <= 1e-20` par exemple.  "
   ]
  },
  {
   "cell_type": "code",
   "execution_count": null,
   "metadata": {},
   "outputs": [],
   "source": []
  }
 ],
 "metadata": {
  "kernelspec": {
   "display_name": "Python 3",
   "language": "python",
   "name": "python3"
  },
  "language_info": {
   "codemirror_mode": {
    "name": "ipython",
    "version": 3
   },
   "file_extension": ".py",
   "mimetype": "text/x-python",
   "name": "python",
   "nbconvert_exporter": "python",
   "pygments_lexer": "ipython3",
   "version": "3.7.6"
  }
 },
 "nbformat": 4,
 "nbformat_minor": 4
}
