{
 "cells": [
  {
   "cell_type": "markdown",
   "metadata": {},
   "source": [
    "**Terminale NSI**\n",
    "<div class=\"bg-info\"><h1>Chapitre 1 - Programmation Orientée Objet</h1></div>\n",
    "\n",
    "<div class=\"bg-default\"><h2>Séance 1 - Exercices</h2></div>"
   ]
  },
  {
   "cell_type": "markdown",
   "metadata": {},
   "source": [
    "## Exercice 1\n",
    "Reprenons l'exemple du cours.\n",
    "```Python  \n",
    "class Robot :\n",
    "    def __init__(self,couleur,autonomie):\n",
    "        self.couleur =  couleur\n",
    "        self.autonomie = autonomie\n",
    "    def parler(self):\n",
    "        return \"Bonjour!\"\n",
    "    def changer_couleur(self,new):\n",
    "        self.couleur = new\n",
    "```  \n",
    "1. Ajouter dans le constructeur un attribut `prenom`.  \n",
    "2. Modifier la méthode `parler` qui renverra, par exemple pour un robot nommé Bob, le message : `Bonjour ! Je m'appelle Bob !`.   \n",
    "3. Créer une méthode `augmenter_autonomie` qui modifiera l'autonomie du robot en ajoutant un nombre d'heures donné en paramètre. \n",
    "4. Tester cette classe en créant quelques robots et en les manipulant."
   ]
  },
  {
   "cell_type": "code",
   "execution_count": null,
   "metadata": {},
   "outputs": [],
   "source": []
  },
  {
   "cell_type": "code",
   "execution_count": null,
   "metadata": {},
   "outputs": [],
   "source": []
  },
  {
   "cell_type": "markdown",
   "metadata": {},
   "source": [
    "## Exercice 2  \n",
    "Un domino est une pièce constituée de deux extrémités comportant chacune un dessin de zéro (vide) à six points. Un jeu de dominos comprend 28 pièces composées des combinaisons des valeurs ci-dessus.\n",
    "1. Définir une classe `Domino` qui permette d’instancier des objets simulant les pièces d’un jeu de dominos. Le constructeur de cette classe initialisera les valeurs des points présents sur les deux faces A et B du domino (valeurs par défaut = 0).  \n",
    "2. Définir la méthode spéciale `__str_()` qui renvoie les points présents sur les deux faces d'un domino.  \n",
    "3. Définir une méthode `valeur()` qui renvoie la somme des points présents sur les 2 faces. \n",
    "4. Tester cette classe en créant quelques dominos et en les manipulant.  \n",
    "5. Définir une liste `pioche` contenant l'ensemble des dominos. Mélanger celle-ci à l'aide de la méthode `shuffle()` du module standard `random`."
   ]
  },
  {
   "cell_type": "code",
   "execution_count": null,
   "metadata": {},
   "outputs": [],
   "source": []
  },
  {
   "cell_type": "code",
   "execution_count": null,
   "metadata": {},
   "outputs": [],
   "source": []
  },
  {
   "cell_type": "markdown",
   "metadata": {},
   "source": [
    "## Exercice 3 \n",
    "1. Créer une classe `Point` contenant deux attributs de coordonnées, `x` et `y`, et initialisée en fournissant les valeurs de ces deux attributs.  \n",
    "2. Définir une méthode `deplace` qui permet de calculer les coordonnées du point obtenu par une translation de vecteur de coordonnées (`dx`,`dy`).\n",
    "3. Définir la méthode spéciale `__str__()` afin de représenter les deux coordonnées entre parenthèses et séparées par une virgule.  \n",
    "4. Ajouter une méthode `distance_origine` qui retourne la distance du point par rapport à l'origine $\\sqrt{x^2 + y^2}$ (on rappelle l'existence de la fonction racine carrée `sqrt()` dans le module `math`).\n",
    "5. Ajouter une méthode `distance_autre_point` qui retourne la distance du point par rapport à un autre point. \n",
    "6. Tester cette classe en créant quelques points et en les manipulant."
   ]
  },
  {
   "cell_type": "code",
   "execution_count": null,
   "metadata": {},
   "outputs": [],
   "source": []
  },
  {
   "cell_type": "code",
   "execution_count": null,
   "metadata": {},
   "outputs": [],
   "source": []
  }
 ],
 "metadata": {
  "kernelspec": {
   "display_name": "Python 3",
   "language": "python",
   "name": "python3"
  },
  "language_info": {
   "codemirror_mode": {
    "name": "ipython",
    "version": 3
   },
   "file_extension": ".py",
   "mimetype": "text/x-python",
   "name": "python",
   "nbconvert_exporter": "python",
   "pygments_lexer": "ipython3",
   "version": "3.7.6"
  }
 },
 "nbformat": 4,
 "nbformat_minor": 4
}
