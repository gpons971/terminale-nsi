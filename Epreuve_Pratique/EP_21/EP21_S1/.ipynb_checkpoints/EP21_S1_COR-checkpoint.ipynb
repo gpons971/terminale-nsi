{
 "cells": [
  {
   "cell_type": "markdown",
   "metadata": {},
   "source": [
    "# Epreuve pratique 2021 - Sujet 1 - Correction\n",
    "## Exercice 1\n",
    "\n",
    "### Solution n°1\n",
    "Complexité linéaire dans tous les cas (on parcourt toute la liste, dans tous les cas)"
   ]
  },
  {
   "cell_type": "code",
   "execution_count": 1,
   "metadata": {},
   "outputs": [],
   "source": [
    "def recherche1(tab, n):\n",
    "    ind = len(tab)\n",
    "    for i in range(len(tab)):\n",
    "        if tab[i] == n:\n",
    "            ind = i\n",
    "    return ind"
   ]
  },
  {
   "cell_type": "code",
   "execution_count": 2,
   "metadata": {},
   "outputs": [
    {
     "data": {
      "text/plain": [
       "2"
      ]
     },
     "execution_count": 2,
     "metadata": {},
     "output_type": "execute_result"
    }
   ],
   "source": [
    "recherche1([5, 3], 1)"
   ]
  },
  {
   "cell_type": "code",
   "execution_count": 3,
   "metadata": {},
   "outputs": [
    {
     "data": {
      "text/plain": [
       "0"
      ]
     },
     "execution_count": 3,
     "metadata": {},
     "output_type": "execute_result"
    }
   ],
   "source": [
    "recherche1([2, 4], 2)"
   ]
  },
  {
   "cell_type": "code",
   "execution_count": 4,
   "metadata": {},
   "outputs": [
    {
     "data": {
      "text/plain": [
       "3"
      ]
     },
     "execution_count": 4,
     "metadata": {},
     "output_type": "execute_result"
    }
   ],
   "source": [
    "recherche1([2, 3, 5, 2, 4], 2)"
   ]
  },
  {
   "cell_type": "markdown",
   "metadata": {},
   "source": [
    "### Solution n°2\n",
    "On parcourt la liste à partir de son dernier élément, ce qui permet d'interrompre le parcours dès que l'on rencontre la dernière occurrence de l'entier $n$ dans la liste.  La liste n'est parcourue entièrement que si l'entier $n$ est absent de la liste ou situé en première position."
   ]
  },
  {
   "cell_type": "code",
   "execution_count": 5,
   "metadata": {},
   "outputs": [],
   "source": [
    "def recherche2(tab, n):\n",
    "    for i in range(len(tab) - 1, -1, -1):\n",
    "        if tab[i] == n:\n",
    "            return i\n",
    "    return len(tab)"
   ]
  },
  {
   "cell_type": "code",
   "execution_count": 6,
   "metadata": {},
   "outputs": [
    {
     "data": {
      "text/plain": [
       "2"
      ]
     },
     "execution_count": 6,
     "metadata": {},
     "output_type": "execute_result"
    }
   ],
   "source": [
    "recherche2([5, 3], 1)"
   ]
  },
  {
   "cell_type": "code",
   "execution_count": 7,
   "metadata": {},
   "outputs": [
    {
     "data": {
      "text/plain": [
       "0"
      ]
     },
     "execution_count": 7,
     "metadata": {},
     "output_type": "execute_result"
    }
   ],
   "source": [
    "recherche2([2, 4], 2)"
   ]
  },
  {
   "cell_type": "code",
   "execution_count": 8,
   "metadata": {},
   "outputs": [
    {
     "data": {
      "text/plain": [
       "3"
      ]
     },
     "execution_count": 8,
     "metadata": {},
     "output_type": "execute_result"
    }
   ],
   "source": [
    "recherche2([2, 3, 5, 2, 4], 2)"
   ]
  },
  {
   "cell_type": "markdown",
   "metadata": {},
   "source": [
    "## Exercice 2"
   ]
  },
  {
   "cell_type": "code",
   "execution_count": 9,
   "metadata": {},
   "outputs": [],
   "source": [
    "from math import sqrt   # import de la fonction racine carrée\n",
    "\n",
    "def distance(point1, point2): \n",
    "    \"\"\" Calcule et renvoie la distance entre deux points. \"\"\"\n",
    "    return sqrt((point2[0] - point1[0])**2 + (point2[1] - point1[1])**2)\n",
    "\n",
    "assert distance((1, 0), (5, 3)) == 5.0, \"erreur de calcul\"\n",
    "assert abs(distance((1, 0), (5, 3)) - 5.0) <= 1e-30, \"erreur de calcul\" # test préférable\n",
    "\n",
    "def plus_courte_distance(tab, depart):\n",
    "    \"\"\" Renvoie le point du tableau tab se trouvant à la plus     \n",
    "    courte distance du point depart.\"\"\"\n",
    "    point = tab[0]\n",
    "    min_dist = distance(point, depart)\n",
    "    for i in range (1, len(tab)):\n",
    "        if distance(tab[i], depart) < min_dist:\n",
    "            point = tab[i]\n",
    "            min_dist = distance(tab[i], depart)\n",
    "    return point\n",
    "\n",
    "assert plus_courte_distance([(7, 9), (2, 5), (5, 2)], (0, 0)) == (2, 5), \"erreur\""
   ]
  },
  {
   "cell_type": "code",
   "execution_count": 10,
   "metadata": {},
   "outputs": [
    {
     "name": "stdout",
     "output_type": "stream",
     "text": [
      "Help on function plus_courte_distance in module __main__:\n",
      "\n",
      "plus_courte_distance(tab, depart)\n",
      "    Renvoie le point du tableau tab se trouvant à la plus     \n",
      "    courte distance du point depart.\n",
      "\n"
     ]
    }
   ],
   "source": [
    "help(plus_courte_distance)"
   ]
  },
  {
   "cell_type": "markdown",
   "metadata": {},
   "source": [
    "```Python\n",
    "from math import sqrt   # import de la fonction racine carrée\n",
    "\n",
    "def distance(point1, point2):\n",
    "    \"\"\" Calcule et renvoie la distance entre deux points. \"\"\"\n",
    "    assert type(point1) == tuple\n",
    "    assert type(point1) == tuple\n",
    "    assert type(point1[0]) == int\n",
    "    assert type(point1[1]) == int\n",
    "    assert type(point2[0]) == int\n",
    "    assert type(point2[1]) == int\n",
    "\n",
    "    return sqrt((point1[0] - point2[0])**2 + (point1[1] - point2[1])**2)\n",
    "\n",
    "assert distance((1, 0), (5, 3)) == 5.0, \"erreur de calcul\"\n",
    "```\n"
   ]
  },
  {
   "cell_type": "code",
   "execution_count": null,
   "metadata": {},
   "outputs": [],
   "source": []
  },
  {
   "cell_type": "code",
   "execution_count": null,
   "metadata": {},
   "outputs": [],
   "source": []
  }
 ],
 "metadata": {
  "kernelspec": {
   "display_name": "Python 3",
   "language": "python",
   "name": "python3"
  },
  "language_info": {
   "codemirror_mode": {
    "name": "ipython",
    "version": 3
   },
   "file_extension": ".py",
   "mimetype": "text/x-python",
   "name": "python",
   "nbconvert_exporter": "python",
   "pygments_lexer": "ipython3",
   "version": "3.7.6"
  }
 },
 "nbformat": 4,
 "nbformat_minor": 4
}
